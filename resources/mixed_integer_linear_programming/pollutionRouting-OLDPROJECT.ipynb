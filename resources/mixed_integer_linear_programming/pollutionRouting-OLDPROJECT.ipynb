{
 "cells": [
  {
   "cell_type": "markdown",
   "metadata": {},
   "source": [
    "# The Pollution-Routing Problem\n",
    "\n",
    "We will consider the following (imaginary) scenario.\n",
    "\n",
    "As part of the new organisation of the administrative regions in France, former regions Languedoc–Roussillon and Midi–Pyrénées merged to form the new *Région Occitanie*. \n",
    "\n",
    "The new region needs to deliver classified materials to all major cities (préfectures) of the new region, namely Albi, Auch, Cahors, Carcassonne, Foix, Mende, Montauban, Montpellier, Nîmes, Perpignan, Rodez, Tarbes, Toulouse. Each city will receive 200kg of classified materials.\n",
    "\n",
    "The materials may depart from two top secret qualified facilities located in [Bugarach](https://www.theguardian.com/world/2012/nov/19/bugarach-french-village-survive-mayan-apocalypse) and [Espalion](https://fr.wikipedia.org/wiki/Les_Petits_Hommes).\n",
    "\n",
    "Cost-reducing is a major concern in the new region, as well as environmental issues. The project manager for this mission needs to charter loading trucks departing from the three facilities and have them deliver in all the cities involved.\n",
    "\n",
    "You have been hired to suggest an environment-friendly cost-effective solution.\n",
    "\n",
    "The problem can be seen as an extension of the following academic problems:\n",
    "- the [Bin Packing problem](https://fr.wikipedia.org/wiki/Probl%C3%A8me_de_bin_packing);\n",
    "- the [Vehicle Routing Problem](https://fr.wikipedia.org/wiki/Probl%C3%A8me_de_tourn%C3%A9es_de_v%C3%A9hicules);\n",
    "- the [Travelling Salesman Problem](https://fr.wikipedia.org/wiki/Probl%C3%A8me_du_voyageur_de_commerce);\n",
    "- and even more..."
   ]
  },
  {
   "cell_type": "markdown",
   "metadata": {},
   "source": [
    "## Instructions\n",
    "\n",
    "You are required to read the present file and get a good understanding of the basic problems of the introduction.  \n",
    "You do have plenty of time, much more than necessary, to get prepared. However, **do no underestimate the work it represents**: be responsible, and make a good use of this time.\n",
    "\n",
    "You may work in groups for this topic, ideally 3 students. You are free to form groups by yourself; however, in every group, there must be at most one *exchange student* and at least one student attending the *optimisation option* class in every group. You **must *share your workload*** as you are not supposed to duplicate analysis, code and results.\n",
    "\n",
    "We will meet for a whole day on February 8th. During this day, we will share your views on the problem. At the end of the day, you will have chosen a particular aspect of the problem you would like to study more in depth and we will be able to discuss how to deal with this aspect of the problem.\n",
    "\n",
    "You will have one more month to submit the final version of your project, **before February 21st, 9 a.m.**\n",
    "\n",
    "For the evaluation, keep in mind that there is no such thing as *the result you are supposed to have*. The quality of your work will be evaluated from:\n",
    "- how you state the problem you want to solve;\n",
    "- how you simplify the problem in order to illustrate the problem you choose to solve;\n",
    "- how you write your model in the optimisation libraries of your choice;\n",
    "- how you write your conclusions and keep a critical eye on your work:  \n",
    "  *\"Our approach does not bring significant improvements over the naive implementation...\",  \n",
    "  \"If we had access to this data, we could have...\"*\n",
    "\n",
    "You may submit your work in French or English."
   ]
  },
  {
   "cell_type": "markdown",
   "metadata": {},
   "source": [
    "## Contents\n",
    "\n",
    "### Optimisation problems\n",
    "*This part will be evaluated for 30% of the project.*\n",
    "1. The Warehouse Location Problem\n",
    "1. The Pollution-Routing Problem, minimising the distance\n",
    "1. The Pollution-Routing Problem, minimising the weighted load\n",
    "1. The Pollution-Routing Problem, minimising the pollution\n",
    "\n",
    "### Tools\n",
    "1. ipyleaflet\n",
    "1. mapquest\n",
    "\n",
    "Both tools are presented in a separate notebook. Read the [documentation](https://ipyleaflet.readthedocs.io/en/latest/) for a proper installation. (It should be fine on the school's computers)\n",
    "\n",
    "### Case study\n",
    "1. What is expected from you\n",
    "1. Framework of **your** study;  \n",
    "   *This part will be evaluated for 20% of the project.*\n",
    "1. Your work;  \n",
    "   *This part will be evaluated for 40% of the project.*"
   ]
  },
  {
   "cell_type": "markdown",
   "metadata": {},
   "source": [
    "## Optimisation problems\n",
    "\n",
    "### The Warehouse Location problem\n",
    "\n",
    "In the Warehouse Location problem, a company considers opening warehouses at some candidate locations in order to supply its existing stores. Each possible warehouse has the same maintenance cost, and a capacity designating the maximum number of stores that it can supply. Each store must be supplied by exactly one open warehouse.\n",
    "\n",
    "The supply cost to a store depends on the warehouse. The objective is to determine which warehouses to open, and which of these warehouses should supply the various stores, such that the sum of the maintenance and supply costs is minimized."
   ]
  },
  {
   "cell_type": "code",
   "execution_count": null,
   "metadata": {
    "collapsed": true
   },
   "outputs": [],
   "source": [
    "warehouses = [ \"Paris\", \"Berlin\", \"Amsterdam\", \"Brussels\", \"London\" ]\n",
    "nbWarehouses = len(warehouses) # labeled from 0 to 4\n",
    "nbStores = 10 # labeled from 0 to 9\n",
    "capacity = [1, 4, 2, 2, 3] # capacity is indexed by warehouses\n",
    "\n",
    "# maintenanceCost is fixed across warehouses\n",
    "maintenanceCost = 30\n",
    "\n",
    "# supplyCost is indexed by Stores(0..9) and the set of Warehouses\n",
    "supplyCost = [ [ 20, 24, 11, 25, 30 ],\n",
    "               [ 28, 27, 82, 83, 74 ],\n",
    "               [ 74, 97, 71, 96, 70 ],\n",
    "               [  2, 55, 73, 69, 61 ],\n",
    "               [ 46, 96, 59, 83,  4 ],\n",
    "               [ 42, 22, 29, 67, 59 ],\n",
    "               [  1,  5, 73, 59, 56 ],\n",
    "               [ 10, 73, 13, 43, 96 ],\n",
    "               [ 93, 35, 63, 85, 46 ],\n",
    "               [ 47, 65, 55, 71, 95 ] ]"
   ]
  },
  {
   "cell_type": "markdown",
   "metadata": {},
   "source": [
    "You may address the problem by choosing a variable for each store:\n",
    "```python\n",
    "# stores[i] represents the id of the warehouse supplying store i\n",
    "stores = [facile.variable(0, nbWarehouses - 1) for i in range(nbStores)]\n",
    "```\n",
    "\n",
    "The first constraint to be stated is that for each warehouse `i`, there is no more than `capacity[i]` variables taking value `i`. You may use the mechanism of *constraint reification* (transform a constraint into a variable) and build expressions such as:\n",
    "\n",
    "```python\n",
    "# the number of variables in stores that are equal to i\n",
    "sum([p == i for p in stores])\n",
    "```\n",
    "\n",
    "As you build the objective function, you will need to sum the supplying costs for the appropriate store/warehouse pairs.  \n",
    "For that purpose, you will need to index each line of `supplyCost` by a variable.  \n",
    "Remember that you may wrap a Python array with `facile.array` so as to index the array by a variable:\n",
    "```python\n",
    "facile.array(supplyCost[i])[stores[i]]  # the cost to supply store i from warehouse stores[i]\n",
    "```\n"
   ]
  },
  {
   "cell_type": "code",
   "execution_count": null,
   "metadata": {
    "collapsed": false
   },
   "outputs": [],
   "source": []
  },
  {
   "cell_type": "markdown",
   "metadata": {},
   "source": [
    "----------------\n",
    "**Note:** *You are required to print the solution in a human-readable format.*  \n",
    "\n",
    "For example (but feel free to do better):\n",
    "  \n",
    "    Cost of the solution: 42\n",
    "     - Stores of Paris: [0]\n",
    "     - Stores of Berlin: [1, 2, 3, 4]\n",
    "     - Stores of Amsterdam: [5]\n",
    "     - Stores of Brussels: [6]\n",
    "     - Stores of London: [7, 8, 9]"
   ]
  },
  {
   "cell_type": "markdown",
   "metadata": {},
   "source": [
    "### The Pollution-Routing Problem\n",
    "\n",
    "The Pollution-Routing Problem is defined on a complete graph $G = (\\mathcal{N}, \\mathcal{A})$ with $\\mathcal{N} = \\{0, 1, \\cdots n\\}$ and $\\mathcal{A}$ the set of arcs defined between each pair of nodes. Node 0 is the depot.\n",
    "\n",
    "There exist a homogeneous set of vehicles $\\mathcal{K} = \\{0, 1, \\cdots m\\}$, each with capacity $\\mathcal{Q}$. The set $\\mathcal{N}_0 = \\mathcal{N} \\backslash \\{0\\}$ is a customer set and every customer $i \\in \\mathcal{N}_0$ has demand $q_i$ and a request to be served within a prespecified time interval $[a_i, b_i]$. The time taken by a vehicle to serve customer $i$ is denoted by $t_i$ and the distance from $i$ to $j$ is denoted by $d_{ij}$.\n",
    "\n",
    "Each vehicle emits a certain amount of GHG (Greenhouse Gas) when traveling over an arc $(i, j)$. This amount is dependent on a number of factors, such as load and speed, among others. Whereas some of these factors are fixed (e.g. gravity and slope), the load and speed variables can be controlled. The load of a vehicle is made up of empty load (*curb weight*) and carried load (*gross vehicle weight rating*).\n",
    "\n",
    "The speed at which a vehicle travels on arc $(i, j)$ is constrained by a lower bound and an upper bound, denoted $l_{ij}$ and $u_{ij}$, respectively, usually imposed by traffic regulations.\n",
    "\n",
    "Based on this introduction, we will consider three problems, all of which involve finding a set of tours for the set $\\mathcal{K}$ of vehicles that start and end at the depot, such that the total load carried by any vehicles does not exceed its capacity Q. These problems differ with respect to their objective functions, some of which are related to the environment.\n",
    "\n",
    "These objectives are:\n",
    "\n",
    "- a distance-minimising objective function assuming constant speed;\n",
    "- a weighted load-minimising objective function assuming constant speed;\n",
    "- an energy-minimising objective function assuming speed as a decision.\n",
    "\n",
    "A fourth problem is left as a possible problem to explore in the second part, and would consider the cost of emissions, drivers and fuel."
   ]
  },
  {
   "cell_type": "code",
   "execution_count": null,
   "metadata": {
    "collapsed": false
   },
   "outputs": [],
   "source": [
    "# We will work with PuLP for linear programming\n",
    "import pulp\n",
    "# A sane way to use arrays in Python\n",
    "import numpy as np"
   ]
  },
  {
   "cell_type": "markdown",
   "metadata": {},
   "source": [
    "We will use the following formulation of the problem. A binary variable $x_{ij}$ will be equal to 1 if a vehicle travels on arc $(i, j) \\in \\mathcal{A}$.  \n",
    "For such a given arc, $f_{ij}$ will represent the amount of commodity flowing and $v_{ij}$ the speed at which a vehicle travels on this arc.\n",
    "\n",
    "#### Minimising the distance\n",
    "\n",
    "The first problem only considers a distance minimisation, that is a minimisation of the following expression\n",
    "\n",
    "$$\\sum_{i,j \\in \\mathcal{A}} d_{ij}\\,x_{ij}$$\n",
    "\n",
    "where $d_{ij}$ represents the distance of arc $(i, j)$, subject to several constraints:\n",
    "\n",
    "- **(C1)**: only $m$ trucks leave from the depot (we will start with $m=1$);\n",
    "- **(C2)**: there is only one \"way\" to arrive to each client;\n",
    "- **(C3)**: there is only one \"way\" to depart from each client;\n",
    "- **(C4)**: an amount of merchandise $q_i$ is left at client $i$ (so the truck weights less after leaving $i$);\n",
    "- **(C5)**: a truck cannot carry more than its capacity."
   ]
  },
  {
   "cell_type": "code",
   "execution_count": null,
   "metadata": {
    "collapsed": false
   },
   "outputs": [],
   "source": [
    "n = 4  # number of nodes\n",
    "m = 1  # number of trucks\n",
    "w = 3  # curb weight\n",
    "\n",
    "\n",
    "# We consider a fully connected graph of four nodes placed in a rectangle\n",
    "# Node 0 is the depot\n",
    "# Distances are in km\n",
    "sq_5 = 100 * np.sqrt(5)\n",
    "distance = np.array([[0, 200, sq_5, 100],\n",
    "                     [200, 0, 100, sq_5],\n",
    "                     [sq_5, 100, 0, 200],\n",
    "                     [100, sq_5, 200, 0]])\n",
    "\n",
    "# Everybody gets 1 ton\n",
    "quantity = np.array([0, 1, 1, 1])\n",
    "Q = np.sum(quantity)"
   ]
  },
  {
   "cell_type": "markdown",
   "metadata": {},
   "source": [
    "<div class=\"alert alert-warning\">\n",
    "**Problem:** Implement the problem and print a sequence of nodes that minimises the total distance.\n",
    "</div>\n",
    "\n",
    "For your convenience, the following variable arrays have already been created."
   ]
  },
  {
   "cell_type": "code",
   "execution_count": null,
   "metadata": {
    "collapsed": true
   },
   "outputs": [],
   "source": [
    "def var_array(pattern):\n",
    "    \"\"\"Creates a two-dimension array of variables created by function pattern(i, j).\n",
    "    \n",
    "    The value is automatically set to integer 0 if i == j. \n",
    "    The array is transformed into an np.array.\n",
    "    \"\"\"\n",
    "    array = [\n",
    "        [\n",
    "            pattern(i, j) if i != j else 0\n",
    "            for j in range(n)\n",
    "        ] for i in range(n)\n",
    "    ]\n",
    "    return np.array(array)\n",
    "\n",
    "# We create the x_ij variables as binary variables (0 if no way exists)\n",
    "x = var_array(lambda i, j: pulp.LpVariable(\"x_%d_%d\" % (i, j), cat = pulp.LpBinary))\n",
    "# f_ij represents the weight transiting from i to j (0 if not transiting)\n",
    "f = var_array(lambda i, j: pulp.LpVariable(\"f_%d_%d\" % (i, j), 0, Q))"
   ]
  },
  {
   "cell_type": "code",
   "execution_count": null,
   "metadata": {
    "collapsed": false
   },
   "outputs": [],
   "source": [
    "# -- write your problem formulation HERE --\n"
   ]
  },
  {
   "cell_type": "markdown",
   "metadata": {},
   "source": [
    "------------------------"
   ]
  },
  {
   "cell_type": "code",
   "execution_count": null,
   "metadata": {
    "collapsed": false
   },
   "outputs": [],
   "source": [
    "# Pretty print of the sequence\n",
    "\n",
    "def where(x, n, i):\n",
    "    \"\"\"Builds a matrix to detect where a non-null value exists.\"\"\"\n",
    "    return np.array([(x[i][j].value() > 0\n",
    "                      if isinstance(x[i][j], pulp.pulp.LpVariable)\n",
    "                      else False) for j in range(n)])\n",
    "\n",
    "matrix = [np.where(where(x, n, i))[0][0] for i in range(n)]\n",
    "sequence = [0]\n",
    "nxt = matrix[0]\n",
    "\n",
    "for p in range(n):\n",
    "    sequence.append(nxt)\n",
    "    nxt = matrix[nxt]\n",
    "\n",
    "print (\"Sequence:\\t\", sequence)"
   ]
  },
  {
   "cell_type": "markdown",
   "metadata": {},
   "source": [
    "#### Minimising the weighted load\n",
    "\n",
    "The second model is based on the first one, with a different objective function:\n",
    "\n",
    "$$\\sum_{i,j \\in \\mathcal{A}} d_{ij}\\, (w\\, x_{ij} + f_{ij})$$\n",
    "\n",
    "where $w = 3\\,t$ is the curb weight."
   ]
  },
  {
   "cell_type": "markdown",
   "metadata": {},
   "source": [
    "<div class=\"alert alert-warning\">\n",
    "**Problem:** Implement the problem and print a sequence of nodes that minimises the weighted load.\n",
    "</div>\n"
   ]
  },
  {
   "cell_type": "code",
   "execution_count": null,
   "metadata": {
    "collapsed": false
   },
   "outputs": [],
   "source": [
    "# -- write your problem formulation HERE --\n"
   ]
  },
  {
   "cell_type": "markdown",
   "metadata": {},
   "source": [
    "----------"
   ]
  },
  {
   "cell_type": "code",
   "execution_count": null,
   "metadata": {
    "collapsed": false
   },
   "outputs": [],
   "source": [
    "matrix = [np.where(where(x, n, i))[0][0] for i in range(n)]\n",
    "sequence = [0]\n",
    "nxt = matrix[0]\n",
    "\n",
    "for p in range(n):\n",
    "    sequence.append(nxt)\n",
    "    nxt = matrix[nxt]\n",
    "    \n",
    "print (\"Sequence:\\t\", sequence)\n",
    "\n",
    "def value(x, n, i):\n",
    "    \"\"\"Builds a matrix to print values where they exist.\"\"\"\n",
    "    return np.array([(x[i][j].value()\n",
    "                      if isinstance(x[i][j], pulp.pulp.LpVariable)\n",
    "                      else None) for j in range(n)])\n",
    "\n",
    "f_r = np.array([value(f, n, i)[matrix[i]] for i in range(n)])\n",
    "f_r = f_r[sequence[:-1]]\n",
    "\n",
    "print (\"Commodity flow:\\t\", f_r)"
   ]
  },
  {
   "cell_type": "markdown",
   "metadata": {},
   "source": [
    "<div class=\"alert alert-warning\">\n",
    "**Problem:** Compare the results of the two preceding models for the following demand.\n",
    "</div>"
   ]
  },
  {
   "cell_type": "code",
   "execution_count": null,
   "metadata": {
    "collapsed": true
   },
   "outputs": [],
   "source": [
    "quantity = np.array([0, .25, 3.5, .25])\n",
    "Q = np.sum(quantity)"
   ]
  },
  {
   "cell_type": "code",
   "execution_count": null,
   "metadata": {
    "collapsed": false
   },
   "outputs": [],
   "source": [
    "# -- write your problem formulation HERE --\n"
   ]
  },
  {
   "cell_type": "markdown",
   "metadata": {},
   "source": [
    "---------------"
   ]
  },
  {
   "cell_type": "markdown",
   "metadata": {},
   "source": [
    "#### Minimising the energy\n",
    "\n",
    "The third model takes into account the total energy spent on a solution.\n",
    "\n",
    "We approximate the total energy spent on arc $(i,j)$ as $ \\alpha_{ij}\\, (w + f_{ij})\\,d_{ij} + \\beta \\, v_{ij}^2 \\, d_{ij}$ where:\n",
    "- $\\alpha_{ij} = a + g\\,\\sin \\theta_{ij} + g\\, C_r\\,\\cos\\theta_{ij}$ is an *arc specific constant*:  \n",
    "  $a$ measures the acceleration we consider equal to zero (constant speed), $\\theta_{ij}$ the average road angle on arc $(i,j)$ and $C_r$ the rolling resistance.\n",
    "- $\\beta = \\dfrac{1}{2}\\,C_d\\,A\\,\\rho$ is a *vehicle specific constant*:  \n",
    "  $C_d$ measures the drag resistance, $A$ the frontal surface area of the vehicle and $\\rho$ the air density.\n",
    "\n",
    "As $v_{ij}^2$ is not an acceptable option for linear programming, we need to linearise the variables. We introduce a set of speed levels $\\mathcal{R} = \\{1, 2, \\cdots \\}$ between $l_{ij} = l$ and $u_{ij} = u$ and introduce binary variables $z_{ij}^r$ being true if a vehicle travels at speed level $r\\in\\mathcal{R}$ on arc $(i,j)$.\n",
    "\n",
    "So the new objective function is:\n",
    "\n",
    "$$\\sum_{i,j \\in \\mathcal{A}} d_{ij}\\, \\left(\\alpha_{ij}\\, \\left(w\\, x_{ij} + f_{ij}\\right) + \\beta \\left(\\sum_{r\\in\\mathcal{R}} (v^r)^2 z_{ij}^r\\right)\\right)$$\n",
    "\n",
    "Note that a new constraint **(C6)** must ensure that:\n",
    "\n",
    "$$\\sum_{r\\in\\mathcal{R}} z_{ij}^r = x_{ij}$$"
   ]
  },
  {
   "cell_type": "code",
   "execution_count": null,
   "metadata": {
    "collapsed": true
   },
   "outputs": [],
   "source": [
    "a  = 0     # acceleration\n",
    "g  = 9.81  # gravity\n",
    "cr = 0.01  # rolling resistance\n",
    "cd = 0.7   # drag resistance\n",
    "A  = 5     # frontal surface resistance, m²\n",
    "rho = 1.2041 # air density, kg/m³\n",
    "\n",
    "## Speed limitations\n",
    "R = 10     # Discretisation of speed\n",
    "l = 40     # km/h\n",
    "u = 70     # km/h\n"
   ]
  },
  {
   "cell_type": "markdown",
   "metadata": {},
   "source": [
    "<div class=\"alert alert-warning\">\n",
    "**Problem:** Implement the problem and print a sequence of nodes that minimises the energy along with the corresponding average speeds.\n",
    "</div>"
   ]
  },
  {
   "cell_type": "code",
   "execution_count": null,
   "metadata": {
    "collapsed": false
   },
   "outputs": [],
   "source": [
    "pb = pulp.LpProblem(\"energy\", pulp.LpMinimize)\n",
    "\n",
    "\n",
    "theta = np.zeros((n,n))\n",
    "alpha = a + g * np.sin(theta) + g * cr * np.cos(theta)\n",
    "beta = 0.5 * cd * A * rho\n",
    "\n",
    "# We create the x_ij variables as binary variables (0 if no way exists)\n",
    "x = var_array(lambda i, j: pulp.LpVariable(\"x_%d_%d\" % (i, j), cat = pulp.LpBinary))\n",
    "# f_ij represents the weight transiting from i to j (0 if not transiting)\n",
    "f = var_array(lambda i, j: pulp.LpVariable(\"f_%d_%d\" % (i, j), 0, Q))\n",
    "\n",
    "# Discretization of speed\n",
    "z_lambda = lambda i, j, r: pulp.LpVariable(\"z_%d_%d_%d\" % (i, j, r), cat = pulp.LpBinary)\n",
    "\n",
    "z = [[[z_lambda(i, j, r) if i != j else 0\n",
    "       for r in range(R)]  # discretisation of speed\n",
    "      for j in range(n)]\n",
    "     for i in range(n)]\n",
    "z = np.array(z)\n",
    "\n",
    "# Computation of v_2 = sum(v_2 * z_ij)\n",
    "v = l + np.arange(R) * (u - l)/R\n",
    "v += (v[1] - v[0])/2\n",
    "v_2 = np.sum(v ** 2 * z, axis=2)"
   ]
  },
  {
   "cell_type": "markdown",
   "metadata": {},
   "source": [
    "----------\n"
   ]
  },
  {
   "cell_type": "code",
   "execution_count": null,
   "metadata": {
    "collapsed": false
   },
   "outputs": [],
   "source": [
    "# -- write your problem formulation HERE --\n"
   ]
  },
  {
   "cell_type": "markdown",
   "metadata": {},
   "source": [
    "--------------------"
   ]
  },
  {
   "cell_type": "code",
   "execution_count": null,
   "metadata": {
    "collapsed": false
   },
   "outputs": [],
   "source": [
    "matrix = [np.where(where(x, n, i))[0][0] for i in range(n)]\n",
    "sequence = [0]\n",
    "nxt = matrix[0]\n",
    "\n",
    "for p in range(n):\n",
    "    sequence.append(nxt)\n",
    "    nxt = matrix[nxt]\n",
    "    \n",
    "print (\"Sequence:\\t\", sequence)\n",
    "\n",
    "def value(x, n, i):\n",
    "    \"\"\"Builds a matrix to print values where they exist.\"\"\"\n",
    "    return np.array([(x[i][j].value()\n",
    "                      if isinstance(x[i][j], pulp.pulp.LpVariable)\n",
    "                      else None) for j in range(n)])\n",
    "\n",
    "f_r = np.array([value(f, n, i)[matrix[i]] for i in range(n)])\n",
    "f_r = f_r[sequence[:-1]]\n",
    "\n",
    "print (\"Commodity flow:\\t\", f_r)\n",
    "\n",
    "z_r = [[[z[i][j][r].value()  if isinstance(z[i][j][r],pulp.pulp.LpVariable) else 0\n",
    "         for r in range(R)] for j in range(n)] for i in range(n)]\n",
    "\n",
    "speeds = []\n",
    "for i in range(n):\n",
    "    pos = np.array([sum(p) for p in z_r[i]])\n",
    "    idx = np.array(z_r[i][np.where(pos>0)[0][0]])\n",
    "    speeds.append(v[np.where(idx>0)[0]][0])\n",
    "\n",
    "print(\"Average speed:\\t\", speeds)"
   ]
  },
  {
   "cell_type": "markdown",
   "metadata": {},
   "source": [
    "## Case studies\n",
    "\n",
    "### What you are expected to work on\n",
    "\n",
    "The exercices you submitted should help you design a basic solution of the problem.  \n",
    "Still, there are many additional parameters that you may take into account.\n",
    "\n",
    "You will have to choose one or several additional aspects and take them into account for your case study.\n",
    "\n",
    "You may pick in the following list, which is **not** limitative. Feel free to address your own interrogations.\n",
    "\n",
    "- **Take service time into account.**  \n",
    "  Some clients have different constraints on their opening times.  \n",
    "  Also, it takes time to empty the truck at destination.  \n",
    "  Design a model to take this parameter into account.  \n",
    "  Analyse the impact on speed on each segment.\n",
    "\n",
    "- **Diesel vs. regular.**  \n",
    "  Diesel is cheaper, but the gas emissions may be more taxed.\n",
    "  \n",
    "- **Faster vs. shorter itinerary.**  \n",
    "  Google API lets you choose between different options when you compute itineraries.\n",
    "\n",
    "- **Cost of labour.**  \n",
    "  Drivers cost as they are on the road. Also there is a legal time for rest that drivers must abide by.  \n",
    "  \n",
    "- **Traffic.**  \n",
    "  Google API lets you compute itineraries at different times of the day.\n",
    "\n",
    "- **Altitude.**  \n",
    "  It may be cheaper to access cities in altitude when the truck is not fully loaded.\n",
    "  \n",
    "- **Number of vehicles.**  \n",
    "  The first model may involve one truck per secret facility. Is it relevant to dispatch more trucks?\n",
    "\n",
    "- **Impact of an unforeseen accident on a major axis.**  \n",
    "  Imagine that A61 road is closed for trucks (or any other scenario).  \n",
    "  What impact does it have on your solution?\n",
    "\n",
    "### Framework of your study\n",
    "\n",
    "<div class=\"alert alert-warning\" style=\"margin-top: 1em\">\n",
    "*This part will be evaluated for 30% of the project.*\n",
    "</div>\n",
    "\n",
    "- Define the aspects you want to take into account for your project.\n",
    "- Specify a case study, reasonable specifications, and additional data you may need (and find!) and exploit.\n",
    "- Explain the kind of results you may reasonably expect.\n"
   ]
  },
  {
   "cell_type": "code",
   "execution_count": null,
   "metadata": {},
   "outputs": [],
   "source": []
  }
 ],
 "metadata": {
  "kernelspec": {
   "display_name": "Python 3",
   "language": "python",
   "name": "python3"
  },
  "language_info": {
   "codemirror_mode": {
    "name": "ipython",
    "version": 3
   },
   "file_extension": ".py",
   "mimetype": "text/x-python",
   "name": "python",
   "nbconvert_exporter": "python",
   "pygments_lexer": "ipython3",
   "version": "3.6.0"
  },
  "widgets": {
   "state": {},
   "version": "1.1.2"
  }
 },
 "nbformat": 4,
 "nbformat_minor": 2
}
