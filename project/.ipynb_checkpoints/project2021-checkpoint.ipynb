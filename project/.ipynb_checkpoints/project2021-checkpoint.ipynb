{
 "cells": [
  {
   "cell_type": "markdown",
   "metadata": {},
   "source": [
    "The aim of this notebook is twofold: introduce or recall Mixed Integer Linear Programming and introduce the project of the module, inspired from a problem you already seen : Energy MultiAnnual Planning in \"La Réunion\" island.\n",
    "\n",
    "First steps will help you reconnect with Mixed Integer Linear Programming (MILP) and associated tool *pulp* as an optimisation technique and tool.  \n",
    "\n",
    "<!-- To begin with, an equivalent to the Excel Sheet you manipulated will be implemented. The project will then be to extend the problem, several options are welcome :\n",
    "- make the problem definition more realistic,\n",
    "- move on to devising the best energy production items,\n",
    "- ...\n",
    " -->\n",
    " \n",
    "Please, keep in mind that MILP is not the only technique you should be aware of. Depending on your choices, MILP may not be the best option to implement your version of the problem. Constraint Programming or metaheuristics may be best suited to it. Other notebooks are provided to help you discover or rediscover those techniques and associated tools. Be sure to make a good, arguable choice to implement your version of the problem. \n",
    "\n",
    "> During this session, we will use *IPython Notebook*. The current webpage embeds a Python interpreter. Each cell may be either text (Markdown) or code (Python) to be executed. All cells may be edited (double-click) and transformed (`Maj+Enter`) into text or passed to the interpreter. The result given by the interpreter and possible graphical representations appear below.\n",
    "\n",
    "Note that:\n",
    "- the current file is automatically saved as you work;\n",
    "- you may add cells with the `+` icon and choose their type (code or Markdown) in the corresponding drop menu.\n"
   ]
  },
  {
   "cell_type": "markdown",
   "metadata": {},
   "source": [
    "\n",
    "# Linear (and mixed-integer linear) programming Introduction\n",
    "\n",
    "We will use and import the `pulp` library. `pulp` gives access to a mixed-integer linear programming API that we will use. A free open-source solver named `coin` is embedded within the package, but it is also possible to bind commercial solvers like CPLEX or GUROBI. Ask your instructor if need be.\n",
    "\n",
    "Click on the cell and `Ctrl+Enter` to execute the Python command.\n",
    "\n",
    "The following cell contains some imports that are needed to prepare the environment (please note it needs to be reexecuted if the kernel is restarted, before being able to run further cells)"
   ]
  },
  {
   "cell_type": "code",
   "execution_count": 32,
   "metadata": {},
   "outputs": [],
   "source": [
    "# PuLP is the MILP tool we use here \n",
    "import pulp\n",
    "\n",
    "# Regular imports for plotting\n",
    "%matplotlib inline\n",
    "import matplotlib.pyplot as plt\n",
    "\n",
    "# numpy always helps!\n",
    "import numpy as np"
   ]
  },
  {
   "cell_type": "markdown",
   "metadata": {},
   "source": [
    "## Linear Programming"
   ]
  },
  {
   "cell_type": "markdown",
   "metadata": {},
   "source": [
    "Now let's recall what is a linear problem by an illustrative example.\n",
    "\n",
    "<div class=\"alert alert-success\">\n",
    "<b>Example :</b><br />\n",
    "Find values for $x,y > 0$ such that $x+2\\,y <= 8$ et $2\\,x+y<= 8$ and as to maximize $x + y$\n",
    "</div>\n",
    "\n",
    "*Associated Graphical interpretation:*"
   ]
  },
  {
   "cell_type": "code",
   "execution_count": 3,
   "metadata": {
    "scrolled": true
   },
   "outputs": [
    {
     "data": {
      "image/png": "[encoded data removed]",
      "text/plain": [
       "<Figure size 432x288 with 1 Axes>"
      ]
     },
     "metadata": {
      "needs_background": "light"
     },
     "output_type": "display_data"
    }
   ],
   "source": [
    "def graphical_interpretation():\n",
    "    ax = plt.axes(frameon=False, aspect=1)\n",
    "    plt.xlim(-.2, 8), plt.ylim(-.2, 8)\n",
    "    x = np.arange(10)\n",
    "    plt.plot ((8 - x)/2)\n",
    "    plt.plot ((8 - 2*x), 'g')\n",
    "    plt.fill_between(x, (8 - x)/2, 8 + 0*x, alpha=0.2)\n",
    "    plt.fill_between(x, (8 - 2*x), 8 + 0*x, color='g', alpha=0.2)\n",
    "\n",
    "graphical_interpretation()\n"
   ]
  },
  {
   "cell_type": "markdown",
   "metadata": {},
   "source": [
    "Now let's see how the example finds a solution using the *pulp* library:"
   ]
  },
  {
   "cell_type": "code",
   "execution_count": 10,
   "metadata": {},
   "outputs": [],
   "source": [
    "# First we create a new problem main variable \n",
    "prob = pulp.LpProblem(\"example\", pulp.LpMaximize) # problem name, problem nature maximisation or minimisation \n",
    "\n",
    "# We declare and name the variables\n",
    "# **WARNING** All variables must have a different name\n",
    "x = pulp.LpVariable(\"x\", 0, None) # name, lower bound, upper bound (None means unbounded)\n",
    "y = pulp.LpVariable(\"y\", 0, None)\n",
    "\n",
    "# Add constraints to the problem (boolean expressions added to the main problem variable)\n",
    "prob += x + 2 * y <= 8\n",
    "prob += 2 * x + y <= 8\n",
    "\n",
    "# If a numerical expression is added, it is interpreted as the objective function (must be unique, in case not, last one wins)\n",
    "prob += x + y\n",
    "\n",
    "# Then we solve it!\n",
    "status = prob.solve()"
   ]
  },
  {
   "cell_type": "code",
   "execution_count": 11,
   "metadata": {},
   "outputs": [
    {
     "data": {
      "text/plain": [
       "'Optimal'"
      ]
     },
     "execution_count": 11,
     "metadata": {},
     "output_type": "execute_result"
    }
   ],
   "source": [
    "# Check the status of the resolution\n",
    "pulp.LpStatus[status]"
   ]
  },
  {
   "cell_type": "code",
   "execution_count": 12,
   "metadata": {},
   "outputs": [
    {
     "data": {
      "text/plain": [
       "(2.6666667, 2.6666667)"
      ]
     },
     "execution_count": 12,
     "metadata": {},
     "output_type": "execute_result"
    },
    {
     "data": {
      "image/png": "[encoded data removed]",
      "text/plain": [
       "<Figure size 432x288 with 1 Axes>"
      ]
     },
     "metadata": {
      "needs_background": "light"
     },
     "output_type": "display_data"
    }
   ],
   "source": [
    "graphical_interpretation()\n",
    "\n",
    "# Now we get the optimal value\n",
    "plt.plot([x.value()], [y.value()], 'ro')\n",
    "\n",
    "# By the way\n",
    "x.value(), y.value()"
   ]
  },
  {
   "cell_type": "markdown",
   "metadata": {},
   "source": [
    "<div class=\"alert alert-success\">\n",
    "**Attention:**\n",
    "We got the solution of the linear programming problem, but let's say we want to work with integer values.\n",
    "</div>"
   ]
  },
  {
   "cell_type": "markdown",
   "metadata": {},
   "source": [
    "## Mixed-Integer Linear Programming\n"
   ]
  },
  {
   "cell_type": "code",
   "execution_count": 31,
   "metadata": {},
   "outputs": [
    {
     "name": "stdout",
     "output_type": "stream",
     "text": [
      "(2.0, 3.0)\n"
     ]
    }
   ],
   "source": [
    "prob = pulp.LpProblem(\"example\", pulp.LpMaximize)\n",
    "\n",
    "x = pulp.LpVariable(\"x\", 0, None, cat=pulp.LpInteger) # cat continuous is the default, override it with integer \n",
    "y = pulp.LpVariable(\"y\", 0, None, cat=pulp.LpInteger) # this is the only change to go from LP to MILP\n",
    "\n",
    "prob += x + 2 * y <= 8\n",
    "prob += 2 * x + y <= 8\n",
    "\n",
    "prob += x + y\n",
    "\n",
    "assert pulp.LpStatus[prob.solve()] == 'Optimal'\n",
    "print ((pulp.value(x), pulp.value(y)))"
   ]
  },
  {
   "cell_type": "code",
   "execution_count": 8,
   "metadata": {
    "scrolled": true
   },
   "outputs": [
    {
     "data": {
      "text/plain": [
       "[<matplotlib.lines.Line2D at 0x7f96bf279cc0>]"
      ]
     },
     "execution_count": 8,
     "metadata": {},
     "output_type": "execute_result"
    },
    {
     "data": {
      "image/png": "[encoded data removed]",
      "text/plain": [
       "<matplotlib.figure.Figure at 0x7f96bf382320>"
      ]
     },
     "metadata": {},
     "output_type": "display_data"
    }
   ],
   "source": [
    "graphical_interpretation()\n",
    "\n",
    "# Admissible solutions\n",
    "plt.plot ([0, 0, 0, 0, 0, 1, 1, 1, 1, 2, 2, 2, 2, 3, 3, 3, 4],\n",
    "          [0, 1, 2 ,3 ,4, 0, 1, 2, 3, 0, 1, 2, 3, 0, 1, 2, 0],\n",
    "          'go', alpha=.5)\n",
    "\n",
    "# Now we get the optimal value\n",
    "plt.plot([x.value()], [y.value()], 'ro')\n"
   ]
  },
  {
   "cell_type": "markdown",
   "metadata": {},
   "source": [
    "# Electric Multiannual Planning"
   ]
  },
  {
   "cell_type": "markdown",
   "metadata": {},
   "source": [
    "Let's rebuild a minimum (trivial) example from scratch (if you copy paste code from the previous cells be sure to understand every pieces)\n",
    "\n",
    "The idea is to fully satify a load by a production, at a minimum cost, using two providers which have different usage ranges and different costs per unit of production (give any value you want to play with your representation, consider that every provider is on and can not produce less than the minimum of its usage range).\n",
    "\n",
    "First, think about the nature and representation of the problem (following items are inter-dependant)\n",
    "- is the problem a linear programming problem ? if not, what are my other options and their requirements\n",
    "- what are the constants and variables of the problem\n",
    "- can I really keep the problem linear ? do I need some \"tricks\"\n",
    "- is my representation scalable to the size I really want to address\n",
    "\n",
    "Then only, move on to implementation, try to represent the following facts (check your syntax often by executing the cell)\n",
    "- declare a new problem named \"balance\", which is a cost minimisation problem\n",
    "- declare your constants\n",
    "- declare your variables (beware to their types, their bounds)\n",
    "- add your constraints to the problem\n",
    "- add your objective to the problem\n",
    "- call the solver, *check success on finding optimality*, if so find an efficient way to display the results\n",
    "\n",
    "<div class=\"alert alert-danger\">Checking that *pulp* has succeeded in finding an optimum is absolutely required before displaying the variables values (in case optimality is not reached, values inside variables are undefined in the sense that they have no meaning with regards to the problem you are working on, but memory always contains ones and zeros so a value will be displayed anyway...)</div>\n"
   ]
  },
  {
   "cell_type": "code",
   "execution_count": null,
   "metadata": {},
   "outputs": [],
   "source": [
    "# your code here"
   ]
  },
  {
   "cell_type": "markdown",
   "metadata": {},
   "source": [
    "Now extend your code to provide a plan of providers usage on a full day, hour by hour, based on a demand itself expressed hour by hour.\n",
    "Be sure to provide a relevant visualisation of the results once they are correct.  "
   ]
  },
  {
   "cell_type": "code",
   "execution_count": 33,
   "metadata": {},
   "outputs": [
    {
     "data": {
      "text/plain": [
       "[<matplotlib.lines.Line2D at 0x7fc8088e7110>]"
      ]
     },
     "execution_count": 33,
     "metadata": {},
     "output_type": "execute_result"
    },
    {
     "data": {
      "image/png": "[encoded data removed]",
      "text/plain": [
       "<Figure size 432x288 with 1 Axes>"
      ]
     },
     "metadata": {
      "needs_background": "light"
     },
     "output_type": "display_data"
    }
   ],
   "source": [
    "# demand expressed hour by hour\n",
    "demand = [20, 20, 20 , 30, 40, 40 , 120, 120,\n",
    "        150, 300, 300, 300, 300, 500, 500, 300,\n",
    "        200, 200, 200, 400, 400, 500, 400, 100 ] # change the values so they are relevant to yours\n",
    "\n",
    "# a simple graphical visualisation of the demand\n",
    "plt.plot(load,'b')"
   ]
  },
  {
   "cell_type": "code",
   "execution_count": 40,
   "metadata": {},
   "outputs": [],
   "source": [
    "# your problem solving code here\n",
    "\n",
    "# a solution :\n",
    "# minimisation problem\n",
    "tprob = pulp.LpProblem(\"Test\",pulp.LpMinimize)\n",
    "\n",
    "# constants\n",
    "p1min=0\n",
    "p1max=100\n",
    "c1=50\n",
    "p2min=10\n",
    "p2max=400\n",
    "c2=100\n",
    "\n",
    "# variables\n",
    "p1=[pulp.LpVariable(f\"p1_{t}\",p1min,p1max) for t in range(0,24)]\n",
    "p2=[pulp.LpVariable(f\"p2_{t}\",p2min,p2max) for t in range(0,24)]\n",
    "#capa=[pulp.LpVariable(f\"capa_$t\") for t in range(0,24)]\n",
    "\n",
    "# constraints\n",
    "for t in range(0,24):\n",
    "    tprob+=p1[t]>=p1min\n",
    "    tprob+=p1[t]<=p1max\n",
    "    tprob+=p2[t]>=p2min\n",
    "    tprob+=p2[t]<=p2max\n",
    "    \n",
    "    tprob+=p1[t]+p2[t]>=demand[t]\n",
    "    \n",
    "# objective\n",
    "tprob+=sum([p1[t]*c1 + p2[t]*c2 for t in range(0,24)])\n",
    "\n",
    "assert pulp.LpStatus[tprob.solve()] == 'Optimal'\n",
    "\n"
   ]
  },
  {
   "cell_type": "code",
   "execution_count": 41,
   "metadata": {},
   "outputs": [
    {
     "data": {
      "text/plain": [
       "[<matplotlib.lines.Line2D at 0x7fc814330910>]"
      ]
     },
     "execution_count": 41,
     "metadata": {},
     "output_type": "execute_result"
    },
    {
     "data": {
      "image/png": "[encoded data removed]",
      "text/plain": [
       "<Figure size 432x288 with 1 Axes>"
      ]
     },
     "metadata": {
      "needs_background": "light"
     },
     "output_type": "display_data"
    }
   ],
   "source": [
    "# your results display code here\n",
    "\n",
    "# a solution\n",
    "p1res=[pulp.value(p1[t]) for t in range(0,24)]\n",
    "p2res=[pulp.value(p2[t]) for t in range(0,24)]\n",
    "\n",
    "plt.plot(demand,'b')\n",
    "plt.plot(p1res,'g')\n",
    "plt.plot(p2res,'r')"
   ]
  },
  {
   "cell_type": "markdown",
   "metadata": {},
   "source": [
    "Now let's imagine that any provider may be stopped: if 'on' it produces an amount of energy between its min and max, if 'off' it produces 0."
   ]
  },
  {
   "cell_type": "code",
   "execution_count": 44,
   "metadata": {},
   "outputs": [
    {
     "name": "stdout",
     "output_type": "stream",
     "text": [
      "[20.0, 20.0, 20.0, 30.0, 40.0, 40.0, 100.0, 100.0, 100.0, 100.0, 100.0, 100.0, 100.0, 100.0, 100.0, 100.0, 100.0, 100.0, 100.0, 100.0, 100.0, 100.0, 100.0, 100.0]\n"
     ]
    },
    {
     "data": {
      "image/png": "[encoded data removed]",
      "text/plain": [
       "<Figure size 432x288 with 1 Axes>"
      ]
     },
     "metadata": {
      "needs_background": "light"
     },
     "output_type": "display_data"
    }
   ],
   "source": [
    "# your code here\n",
    "\n",
    "# a solution :\n",
    "# minimisation problem\n",
    "tprob = pulp.LpProblem(\"Test\",pulp.LpMinimize)\n",
    "\n",
    "# constants\n",
    "p1min=0\n",
    "p1max=100\n",
    "c1=50\n",
    "p2min=10\n",
    "p2max=400\n",
    "c2=100\n",
    "\n",
    "# variables\n",
    "\n",
    "## production\n",
    "p1=[pulp.LpVariable(f\"p1_{t}\",0,p1max) for t in range(0,24)]\n",
    "p2=[pulp.LpVariable(f\"p2_{t}\",0,p2max) for t in range(0,24)]\n",
    "\n",
    "## on/off\n",
    "on1=[pulp.LpVariable(f\"on1_{t}\",cat=pulp.LpBinary) for t in range(0,24)]\n",
    "on2=[pulp.LpVariable(f\"on2_{t}\",cat=pulp.LpBinary) for t in range(0,24)]\n",
    "\n",
    "\n",
    "# constraints\n",
    "for t in range(0,24):\n",
    "    tprob+=p1[t]>=p1min*on1[t] # if 'on' produce at least min\n",
    "    tprob+=p1[t]<=p1max*on1[t] # if 'on' produce at most max, if 'off' produce 0 \n",
    "    tprob+=p2[t]>=p2min*on2[t]\n",
    "    tprob+=p2[t]<=p2max*on2[t]\n",
    "    \n",
    "    tprob+=p1[t]+p2[t]>=demand[t]\n",
    "    \n",
    "# objective\n",
    "tprob+=sum([p1[t]*c1 + p2[t]*c2 for t in range(0,24)])\n",
    "\n",
    "\n",
    "# display\n",
    "assert pulp.LpStatus[tprob.solve()] == 'Optimal'\n",
    "p1res=[pulp.value(p1[t]) for t in range(0,24)]\n",
    "p2res=[pulp.value(p2[t]) for t in range(0,24)]\n",
    "\n",
    "plt.plot(demand,'b')\n",
    "plt.plot(p1res,'g')\n",
    "plt.plot(p2res,'r')"
   ]
  },
  {
   "cell_type": "markdown",
   "metadata": {},
   "source": [
    "If our first provider is turned into a perfect battery (no loss during charging : every excess unit provided is stored until full capacity is reached, no loss when unused)"
   ]
  },
  {
   "cell_type": "code",
   "execution_count": 153,
   "metadata": {},
   "outputs": [
    {
     "name": "stdout",
     "output_type": "stream",
     "text": [
      "Total cost is 561000.0\n"
     ]
    },
    {
     "data": {
      "image/png": "[encoded data removed]",
      "text/plain": [
       "<Figure size 1080x648 with 2 Axes>"
      ]
     },
     "metadata": {
      "needs_background": "light"
     },
     "output_type": "display_data"
    }
   ],
   "source": [
    "# your code here\n",
    "\n",
    "# if p1 is a perfect battery\n",
    "\n",
    "# a solution :\n",
    "# minimisation problem\n",
    "tprob = pulp.LpProblem(\"Test\",pulp.LpMinimize)\n",
    "\n",
    "# constants\n",
    "capamax=200 # max capacity of the battery\n",
    "p1min,p1max=0,100 # production range\n",
    "c1=50 # cost per unit\n",
    "\n",
    "p2min,p2max=10,400\n",
    "c2=100\n",
    "\n",
    "\n",
    "# variables\n",
    "## production\n",
    "p1=[pulp.LpVariable(f\"p1_{t}\",0,p1max) for t in range(0,24)]\n",
    "p2=[pulp.LpVariable(f\"p2_{t}\",0,p2max) for t in range(0,24)]\n",
    "\n",
    "## on/off\n",
    "on1=[pulp.LpVariable(f\"on1_{t}\",cat=pulp.LpBinary) for t in range(0,24)]\n",
    "on2=[pulp.LpVariable(f\"on2_{t}\",cat=pulp.LpBinary) for t in range(0,24)]\n",
    "\n",
    "## battery load\n",
    "p1load=[pulp.LpVariable(f\"p1load_{t}\",0,capamax) for t in range(0,24)]\n",
    "\n",
    "\n",
    "# constraints\n",
    "p1load[0]=0 # let's start empty\n",
    "# p1load[0]=capamax # let's start full\n",
    "\n",
    "for t in range(0,24):\n",
    "    tprob+=p1[t]>=p1min*on1[t]\n",
    "    tprob+=p1[t]<=p1max*on1[t]\n",
    "    tprob+=p2[t]>=p2min*on2[t]\n",
    "    tprob+=p2[t]<=p2max*on2[t]\n",
    "    \n",
    "    tprob+=p1[t]<=p1load[t] # can not provide more than available\n",
    "    tprob+=p1[t]+p2[t]>=demand[t] # must satify demand\n",
    "\n",
    "for t in range(1,24): # load level beginning a step is based on the previous one\n",
    "    tprob+=p1load[t]==p1load[t-1]-p1[t-1]+(p1[t-1]+p2[t-1]-demand[t-1])\n",
    "\n",
    "    \n",
    "# objective\n",
    "tprob+=sum([p1[t]*c1 + p2[t]*c2 for t in range(0,24)])\n",
    "\n",
    "\n",
    "# display\n",
    "from matplotlib import gridspec\n",
    "\n",
    "assert pulp.LpStatus[tprob.solve()] == 'Optimal'\n",
    "p1res=[pulp.value(p1[t]) for t in range(0,24)]\n",
    "p2res=[pulp.value(p2[t]) for t in range(0,24)]\n",
    "ptot=[p1res[t]+p2res[t] for t in range (0,24)]\n",
    "p1al=[pulp.value(p1load[t]) for t in range(0,24)]\n",
    "\n",
    "# display results\n",
    "fig=plt.figure(figsize=(15, 9))\n",
    "spec=gridspec.GridSpec(ncols=1,nrows=2,height_ratios=[2,1])\n",
    "\n",
    "# display demand and production rates\n",
    "fig.add_subplot(spec[0,0])\n",
    "plt.plot(demand,'k', linewidth=2.0,drawstyle='steps',label=\"demand\")\n",
    "\n",
    "plt.plot(p1res,'g',linewidth=1.0,drawstyle='steps',label=\"battery production\")\n",
    "plt.plot(p2res,'r',linewidth=1.0,drawstyle='steps',label=\"dispatchable production\")\n",
    "\n",
    "plt.plot(ptot,linewidth=1.0,drawstyle='steps',c='b',linestyle='--',zorder=2, label=\"total production\")\n",
    "plt.fill_between(range(0,24), demand, ptot, step='pre', alpha=0.2, label=\"in excess production/charging\")\n",
    "plt.legend()\n",
    "\n",
    "\n",
    "# display battery load\n",
    "fig.add_subplot(spec[1,0])\n",
    "plt.bar(range(0,24),p1al,label=\"battery load level\")\n",
    "plt.legend()\n",
    "\n",
    "print(f\"Total cost is {pulp.value(tprob.objective)}\")\n"
   ]
  },
  {
   "cell_type": "markdown",
   "metadata": {
    "collapsed": true
   },
   "source": [
    "<div class=\"alert alert-warning\">\n",
    "<b>Planning a week of electric production</b>\n",
    "<p>\n",
    "An electric utility company owns two power plants.<br/> The first plant can power no less than 50 and up to 400 MW for a production cost of 20€/MWh.<br/> The second plant can power no less than 20 and up to 200 MW for a production cost of 40€/MWh.<br/> An additional constraints states that a power plan, when powered on, must keep on for at least two consecutive hours.\n",
    "</p><p>\n",
    "The power plants must meet an electric demand during a week provided in an attached file (one line per hour).\n",
    "</p>\n",
    "\n",
    "</div>"
   ]
  },
  {
   "cell_type": "code",
   "execution_count": 17,
   "metadata": {},
   "outputs": [
    {
     "data": {
      "image/png": "[encoded data removed]",
      "text/plain": [
       "<Figure size 432x288 with 1 Axes>"
      ]
     },
     "metadata": {
      "needs_background": "light"
     },
     "output_type": "display_data"
    }
   ],
   "source": [
    "demand = np.loadtxt(\"demand.txt\")\n",
    "plt.plot(demand, 'r')\n",
    "\n",
    "costs = np.array([20, 40])\n",
    "power_max = np.array([400, 200])\n",
    "power_min = np.array([50, 20])"
   ]
  },
  {
   "cell_type": "code",
   "execution_count": null,
   "metadata": {
    "collapsed": true
   },
   "outputs": [],
   "source": [
    "# your code here"
   ]
  },
  {
   "cell_type": "markdown",
   "metadata": {},
   "source": [
    "Now its up to you to make the problem evolves and become your project. To extend the problem, several options are welcome :\n",
    "\n",
    "- make the problem definition more realistic,\n",
    "- move on to devising the best energy production items,\n",
    "- ...\n",
    "\n",
    "Remember that MILP is not the only technique you should be aware of, and depending on your choices, may not be the best one to implement your version of the problem. Constraint Programming or metaheuristics may be best suited to it. Other notebooks are provided to help you discover or rediscover those techniques and associated tools. Be sure to make a good, arguable choice to implement your version of the problem. "
   ]
  }
 ],
 "metadata": {
  "kernelspec": {
   "display_name": "Python 3",
   "language": "python",
   "name": "python3"
  },
  "language_info": {
   "codemirror_mode": {
    "name": "ipython",
    "version": 3
   },
   "file_extension": ".py",
   "mimetype": "text/x-python",
   "name": "python",
   "nbconvert_exporter": "python",
   "pygments_lexer": "ipython3",
   "version": "3.7.3"
  }
 },
 "nbformat": 4,
 "nbformat_minor": 2
}
