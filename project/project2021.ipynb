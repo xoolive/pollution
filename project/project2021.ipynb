{
 "cells": [
  {
   "cell_type": "markdown",
   "metadata": {},
   "source": [
    "The aim of this notebook is twofold: \n",
    "- introduce or recall Mixed Integer Linear Programming and \n",
    "- introduce the project of the module, inspired from a problem you already seen : Energy MultiAnnual Planning in \"La Réunion\" island.\n",
    "\n",
    "First steps will help you reconnect with Mixed Integer Linear Programming (MILP) and associated tool *pulp* as an optimisation technique and tool.  \n",
    "\n",
    "<!-- To begin with, an equivalent to the Excel Sheet you manipulated will be implemented. The project will then be to extend the problem, several options are welcome :\n",
    "- make the problem definition more realistic,\n",
    "- move on to devising the best energy production items,\n",
    "- ...\n",
    " -->\n",
    " \n",
    "Please, keep in mind that MILP is not the only technique you should be aware of. Depending on your choices, MILP may not be the best option to implement your version of the problem. Constraint Programming or metaheuristics may be best suited to it. Other notebooks are provided to help you discover or rediscover those techniques and associated tools. Be sure to make a good, arguable choice to implement your version of the problem. \n",
    "\n",
    "> During this session, we will use *IPython Notebook*. The current webpage embeds a Python interpreter. Each cell may be either text (Markdown) or code (Python) to be executed. All cells may be edited (double-click) and transformed (`Maj+Enter`) into text or passed to the interpreter. The result given by the interpreter and possible graphical representations appear below.\n",
    "\n",
    "Note that:\n",
    "- the current file is automatically saved as you work;\n",
    "- you may add cells with the `+` icon and choose their type (code or Markdown) in the corresponding drop menu.\n",
    "- some code cells contain a solution proposition, use them only after trying by yourself\n"
   ]
  },
  {
   "cell_type": "markdown",
   "metadata": {},
   "source": [
    "\n",
    "# Linear (and Mixed-Integer Linear) Programming introduction\n",
    "\n",
    "We will use and import the `pulp` library. `pulp` gives access to a mixed-integer linear programming API that we will use. A free open-source solver named `coin` is embedded within the package, but it is also possible to bind commercial solvers like CPLEX or GUROBI. Ask your instructor if need be.\n",
    "\n",
    "Click on the cell and `Ctrl+Enter` to execute the Python command.\n",
    "\n",
    "The following cell contains some imports that are needed to prepare the environment (please note it needs to be reexecuted if the kernel is restarted, before being able to run further cells)"
   ]
  },
  {
   "cell_type": "code",
   "execution_count": null,
   "metadata": {},
   "outputs": [],
   "source": [
    "# PuLP is the MILP tool we use here \n",
    "import pulp\n",
    "\n",
    "# Regular imports for plotting\n",
    "%matplotlib inline\n",
    "import matplotlib.pyplot as plt\n",
    "\n",
    "# numpy always helps!\n",
    "import numpy as np"
   ]
  },
  {
   "cell_type": "markdown",
   "metadata": {},
   "source": [
    "## Linear Programming"
   ]
  },
  {
   "cell_type": "markdown",
   "metadata": {},
   "source": [
    "Now let's recall what is a linear problem by an illustrative example.\n",
    "\n",
    "<div class=\"alert alert-success\">\n",
    "<b>Example :</b><br />\n",
    "Find values for $x,y > 0$ such that $x+2\\,y <= 8$ et $2\\,x+y<= 8$ and as to maximize $x + y$\n",
    "</div>\n",
    "\n",
    "*Associated Graphical interpretation:*"
   ]
  },
  {
   "cell_type": "code",
   "execution_count": null,
   "metadata": {
    "scrolled": true
   },
   "outputs": [],
   "source": [
    "def graphical_interpretation():\n",
    "    ax = plt.axes(frameon=False, aspect=1)\n",
    "    plt.xlim(-.2, 8), plt.ylim(-.2, 8)\n",
    "    x = np.arange(10)\n",
    "    plt.plot ((8 - x)/2)\n",
    "    plt.plot ((8 - 2*x), 'g')\n",
    "    plt.fill_between(x, (8 - x)/2, 8 + 0*x, alpha=0.2)\n",
    "    plt.fill_between(x, (8 - 2*x), 8 + 0*x, color='g', alpha=0.2)\n",
    "\n",
    "graphical_interpretation()\n"
   ]
  },
  {
   "cell_type": "markdown",
   "metadata": {},
   "source": [
    "Now let's see how the example finds a solution using the *pulp* library:"
   ]
  },
  {
   "cell_type": "code",
   "execution_count": null,
   "metadata": {},
   "outputs": [],
   "source": [
    "# First we create a new problem main variable \n",
    "prob = pulp.LpProblem(\"example\", pulp.LpMaximize) # problem name, problem nature maximisation or minimisation \n",
    "\n",
    "# We declare and name the variables\n",
    "# **WARNING** All variables must have a different name\n",
    "x = pulp.LpVariable(\"x\", 0, None) # name, lower bound, upper bound (None means unbounded)\n",
    "y = pulp.LpVariable(\"y\", 0, None)\n",
    "\n",
    "# Add constraints to the problem (boolean expressions added to the main problem variable)\n",
    "prob += x + 2 * y <= 8\n",
    "prob += 2 * x + y <= 8\n",
    "\n",
    "# If a numerical expression is added, it is interpreted as the objective function (must be unique, in case not, last one wins)\n",
    "prob += x + y\n",
    "\n",
    "# Then we solve it!\n",
    "status = prob.solve()"
   ]
  },
  {
   "cell_type": "code",
   "execution_count": null,
   "metadata": {},
   "outputs": [],
   "source": [
    "# Check the status of the resolution\n",
    "pulp.LpStatus[status]"
   ]
  },
  {
   "cell_type": "code",
   "execution_count": null,
   "metadata": {},
   "outputs": [],
   "source": [
    "graphical_interpretation()\n",
    "\n",
    "# Now we get the optimal value\n",
    "plt.plot([x.value()], [y.value()], 'ro')\n",
    "\n",
    "# By the way\n",
    "x.value(), y.value()"
   ]
  },
  {
   "cell_type": "markdown",
   "metadata": {},
   "source": [
    "<div class=\"alert alert-success\">\n",
    "**Attention:**\n",
    "We got the solution of the linear programming problem, but let's say we want to work with integer values.\n",
    "</div>"
   ]
  },
  {
   "cell_type": "markdown",
   "metadata": {},
   "source": [
    "## Mixed-Integer Linear Programming\n"
   ]
  },
  {
   "cell_type": "code",
   "execution_count": null,
   "metadata": {},
   "outputs": [],
   "source": [
    "prob = pulp.LpProblem(\"example\", pulp.LpMaximize)\n",
    "\n",
    "x = pulp.LpVariable(\"x\", 0, None, cat=pulp.LpInteger) # cat continuous is the default, override it with integer \n",
    "y = pulp.LpVariable(\"y\", 0, None, cat=pulp.LpInteger) # this is the only change to go from LP to MILP\n",
    "\n",
    "prob += x + 2 * y <= 8\n",
    "prob += 2 * x + y <= 8\n",
    "\n",
    "prob += x + y\n",
    "\n",
    "assert pulp.LpStatus[prob.solve()] == 'Optimal'\n",
    "print ((pulp.value(x), pulp.value(y)))"
   ]
  },
  {
   "cell_type": "code",
   "execution_count": null,
   "metadata": {
    "scrolled": true
   },
   "outputs": [],
   "source": [
    "graphical_interpretation()\n",
    "\n",
    "# Admissible solutions\n",
    "plt.plot ([0, 0, 0, 0, 0, 1, 1, 1, 1, 2, 2, 2, 2, 3, 3, 3, 4],\n",
    "          [0, 1, 2 ,3 ,4, 0, 1, 2, 3, 0, 1, 2, 3, 0, 1, 2, 0],\n",
    "          'go', alpha=.5)\n",
    "\n",
    "# Now we get the optimal value\n",
    "plt.plot([x.value()], [y.value()], 'ro')\n"
   ]
  },
  {
   "cell_type": "markdown",
   "metadata": {},
   "source": [
    "# Electric Multiannual Planning"
   ]
  },
  {
   "cell_type": "markdown",
   "metadata": {},
   "source": [
    "## Simply satisfy a demand\n",
    "\n",
    "Let's rebuild a minimum (trivial) example from scratch (if you copy paste code from the previous cells be sure to understand every pieces)\n",
    "\n",
    "The idea is to fully satify a demand by a production, at a minimum cost, using two providers which have different usage ranges and different costs per unit of production (give any value you want to play with your representation, consider that every provider is on and can not produce less than the minimum of its usage range).\n",
    "\n",
    "First, think about the nature and representation of the problem (following items are inter-dependant)\n",
    "- is the problem a linear programming problem ? if not, what are my other options and their requirements\n",
    "- what are the constants and variables of the problem\n",
    "- can I really keep the problem linear ? do I need some \"tricks\"\n",
    "- is my representation scalable to the size I really want to address\n",
    "\n",
    "Then only, move on to implementation, try to represent the following facts (check your syntax often by executing the cell)\n",
    "- declare a new problem named \"balance\", which is a cost minimisation problem\n",
    "- declare your constants\n",
    "- declare your variables (beware to their types, their bounds)\n",
    "- add your constraints to the problem\n",
    "- add your objective to the problem\n",
    "- call the solver, *check success on finding optimality*, if so find an efficient way to display the results\n",
    "\n",
    "<p></p>\n",
    "\n",
    "<div class=\"alert alert-danger\">Checking that *pulp* has succeeded in finding an optimum is absolutely required before displaying the variables values (in case optimality is not reached, values inside variables are undefined in the sense that they have no meaning with regards to the problem you are working on, but memory always contains ones and zeros so a value will be displayed anyway...)</div>\n"
   ]
  },
  {
   "cell_type": "code",
   "execution_count": null,
   "metadata": {},
   "outputs": [],
   "source": [
    "# your code here"
   ]
  },
  {
   "cell_type": "markdown",
   "metadata": {},
   "source": [
    "## Satisfy the demand on a 24 hour plan\n",
    "\n",
    "Now extend your code to provide a plan of providers usage on a full day, hour by hour, based on a demand itself expressed hour by hour.\n",
    "Be sure to provide a relevant visualisation of the results once they are correct.  "
   ]
  },
  {
   "cell_type": "code",
   "execution_count": null,
   "metadata": {},
   "outputs": [],
   "source": [
    "# demand expressed hour by hour\n",
    "demand = [20, 20, 20 , 30, 40, 40 , 120, 120,\n",
    "        150, 300, 300, 300, 300, 500, 500, 300,\n",
    "        200, 200, 200, 400, 400, 500, 400, 100 ] # change the values so they are relevant to yours\n",
    "\n",
    "# a simple graphical visualisation of the demand\n",
    "plt.plot(demand,'b')"
   ]
  },
  {
   "cell_type": "code",
   "execution_count": null,
   "metadata": {},
   "outputs": [],
   "source": [
    "# your problem solving code here\n"
   ]
  },
  {
   "cell_type": "code",
   "execution_count": null,
   "metadata": {},
   "outputs": [],
   "source": [
    "# In case of emergency *only*\n",
    "import os\n",
    "solution=os.path.join('solutions','24h.py')\n",
    "%load $solution"
   ]
  },
  {
   "cell_type": "code",
   "execution_count": null,
   "metadata": {},
   "outputs": [],
   "source": [
    "# your results display code here\n"
   ]
  },
  {
   "cell_type": "code",
   "execution_count": null,
   "metadata": {},
   "outputs": [],
   "source": [
    "# In case of emergency *only*\n",
    "import os\n",
    "solution=os.path.join('solutions','24hdisp.py')\n",
    "%load $solution"
   ]
  },
  {
   "cell_type": "markdown",
   "metadata": {},
   "source": [
    "## Add the opportunity to totally stop any provider\n",
    "\n",
    "Now let's imagine that any provider may be stopped: if 'on' it produces an amount of energy between its min and max, if 'off' it produces 0."
   ]
  },
  {
   "cell_type": "code",
   "execution_count": null,
   "metadata": {},
   "outputs": [],
   "source": [
    "# your code here\n"
   ]
  },
  {
   "cell_type": "code",
   "execution_count": null,
   "metadata": {},
   "outputs": [],
   "source": [
    "# In case of emergency *only*\n",
    "import os\n",
    "solution=os.path.join('solutions','24honoff.py')\n",
    "%load $solution"
   ]
  },
  {
   "cell_type": "markdown",
   "metadata": {},
   "source": [
    "## Modelling a battery effect\n",
    "\n",
    "If our first provider is turned into a perfect battery (no loss during charging : every excess unit provided is stored until full capacity is reached, no loss when unused)"
   ]
  },
  {
   "cell_type": "code",
   "execution_count": null,
   "metadata": {},
   "outputs": [],
   "source": [
    "# your code here\n"
   ]
  },
  {
   "cell_type": "code",
   "execution_count": null,
   "metadata": {},
   "outputs": [],
   "source": [
    "# %load solutions/24hbattery.py\n"
   ]
  },
  {
   "cell_type": "markdown",
   "metadata": {},
   "source": [
    "## Constraining on/off sequence"
   ]
  },
  {
   "cell_type": "markdown",
   "metadata": {
    "collapsed": true
   },
   "source": [
    "<div class=\"alert alert-warning\">\n",
    "<b>Planning a week of electric production</b>\n",
    "<p>\n",
    "An electric utility company owns two power plants.<br/> The first plant can power no less than 50 and up to 400 MW for a production cost of 20€/MWh.<br/> The second plant can power no less than 20 and up to 200 MW for a production cost of 40€/MWh.<br/> An additional constraints states that a power plan, when powered on, must keep on for at least two consecutive hours.\n",
    "</p><p>\n",
    "The power plants must meet an electric demand during a week provided in an attached file (one line per hour).\n",
    "</p>\n",
    "\n",
    "</div>"
   ]
  },
  {
   "cell_type": "code",
   "execution_count": null,
   "metadata": {},
   "outputs": [],
   "source": [
    "demand = np.loadtxt(\"demand.txt\")\n",
    "plt.plot(demand, 'r')\n",
    "\n",
    "costs = np.array([20, 40])\n",
    "power_max = np.array([400, 200])\n",
    "power_min = np.array([50, 20])"
   ]
  },
  {
   "cell_type": "code",
   "execution_count": null,
   "metadata": {},
   "outputs": [],
   "source": [
    "# your code here"
   ]
  },
  {
   "cell_type": "code",
   "execution_count": null,
   "metadata": {},
   "outputs": [],
   "source": [
    "# In case of emergency *only*\n",
    "import os\n",
    "solution=os.path.join('solutions','weekplan.py')\n",
    "%load $solution"
   ]
  },
  {
   "cell_type": "markdown",
   "metadata": {},
   "source": [
    "# Choosing your project\n",
    "\n",
    "Now its up to you to make the problem evolves and become your project. To extend the problem, several options are welcome :\n",
    "\n",
    "- make the problem definition more realistic,\n",
    "- move on to devising the best energy production items,\n",
    "- ...\n",
    "\n",
    "Remember that MILP is not the only technique you should be aware of, and depending on your choices, may not be the best one to implement your version of the problem. Constraint Programming or metaheuristics may be best suited to it. Other notebooks are provided to help you discover or rediscover those techniques and associated tools. Be sure to make a good, arguable choice to implement your version of the problem. "
   ]
  }
 ],
 "metadata": {
  "kernelspec": {
   "display_name": "Python 3",
   "language": "python",
   "name": "python3"
  },
  "language_info": {
   "codemirror_mode": {
    "name": "ipython",
    "version": 3
   },
   "file_extension": ".py",
   "mimetype": "text/x-python",
   "name": "python",
   "nbconvert_exporter": "python",
   "pygments_lexer": "ipython3",
   "version": "3.7.3"
  }
 },
 "nbformat": 4,
 "nbformat_minor": 2
}
